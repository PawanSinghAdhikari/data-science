{
 "cells": [
  {
   "cell_type": "code",
   "execution_count": 23,
   "id": "a079e1b8-4450-4682-ba57-4ac9000a0f71",
   "metadata": {},
   "outputs": [
    {
     "name": "stdout",
     "output_type": "stream",
     "text": [
      "sum of first 10 numbers is 55\n"
     ]
    }
   ],
   "source": [
    "#ans-1\n",
    "\n",
    "#using loop\n",
    "#find sum of 1 to 10\n",
    "\n",
    "sum=0\n",
    "for i in range(11):\n",
    "    if(i<=10):\n",
    "        sum=i+sum\n",
    "print(\"sum of first 10 numbers is\",sum)    \n",
    "\n",
    "\n",
    "\n",
    "    \n",
    "\n"
   ]
  },
  {
   "cell_type": "code",
   "execution_count": 29,
   "id": "9e9535d3-a987-4630-ae1d-1fce94014d19",
   "metadata": {},
   "outputs": [
    {
     "name": "stdout",
     "output_type": "stream",
     "text": [
      "sum of first 10 numbers is 55\n"
     ]
    }
   ],
   "source": [
    "#using while loop\n",
    "sum=0\n",
    "i=0\n",
    "while (i <=10):\n",
    "    sum=sum+i\n",
    "    i=i+1\n",
    "print(\"sum of first 10 numbers is\",sum)    \n",
    "    "
   ]
  },
  {
   "cell_type": "code",
   "execution_count": null,
   "id": "62dc5d9d-63e8-4ae4-bd93-c79ae1afbd01",
   "metadata": {},
   "outputs": [],
   "source": []
  },
  {
   "cell_type": "code",
   "execution_count": 4,
   "id": "86021326-e7d5-4196-a6fe-ac29b691ee18",
   "metadata": {},
   "outputs": [
    {
     "name": "stdout",
     "output_type": "stream",
     "text": [
      "55 3628800\n"
     ]
    }
   ],
   "source": [
    "\n",
    "#ans-2\n",
    "#sum of the first 10 natural number and their product\n",
    "i=10\n",
    "sum=0\n",
    "multiplication=1\n",
    "while i>0:\n",
    "    sum=sum+i\n",
    "    multiplication=multiplication*i\n",
    "    i=i-1\n",
    "print(sum,multiplication)    "
   ]
  },
  {
   "cell_type": "code",
   "execution_count": 38,
   "id": "cf77a140-6e40-4c47-9a7e-abf96be9480b",
   "metadata": {},
   "outputs": [
    {
     "name": "stdin",
     "output_type": "stream",
     "text": [
      "enter numner of unit consumed in a month: 310\n"
     ]
    },
    {
     "name": "stdout",
     "output_type": "stream",
     "text": [
      "2250.0\n"
     ]
    }
   ],
   "source": [
    "#ans-3\n",
    "unit=int(input(\"enter numner of unit consumed in a month:\"))\n",
    "if unit <=100:\n",
    "    amount=unit*4.5\n",
    "elif unit>100 and unit<=200:\n",
    "        amount=4.5*100+(unit-100)*6\n",
    "elif unit>200 and unit<=300:\n",
    "        amount=4.5*100+100*6+(unit-200)*10\n",
    "else:\n",
    "    amount=4.5*100+6*100+100*10+(unit-300)*20\n",
    "print(amount)    "
   ]
  },
  {
   "cell_type": "code",
   "execution_count": 7,
   "id": "586b1103-afe6-423c-a8ae-17427fde4c59",
   "metadata": {},
   "outputs": [
    {
     "name": "stdout",
     "output_type": "stream",
     "text": [
      "cube of number [4, 5, 8, 10, 12, 15, 16, 20, 24, 25, 28, 30, 32, 35, 36, 40, 44, 45, 48, 50, 52, 55, 56, 60, 64, 65, 68, 70, 72, 75, 76, 80, 84, 85, 88, 90, 92, 95, 96, 100]\n"
     ]
    }
   ],
   "source": [
    "#ans -4\n",
    "\n",
    "l=[]\n",
    "n=100\n",
    "i=1\n",
    "#using while loop\n",
    "while i<=n:\n",
    "    if(i%4==0 or i%5==0):\n",
    "       l.append(i)\n",
    "    i=i+1\n",
    "print(\"cube of number\",l)    \n",
    "\n"
   ]
  },
  {
   "cell_type": "code",
   "execution_count": 8,
   "id": "c3fa95b3-0632-4eec-8c4d-4a047c169564",
   "metadata": {},
   "outputs": [
    {
     "name": "stdout",
     "output_type": "stream",
     "text": [
      "cube of numbers [0, 4, 5, 8, 10, 12, 15, 16, 20, 24, 25, 28, 30, 32, 35, 36, 40, 44, 45, 48, 50, 52, 55, 56, 60, 64, 65, 68, 70, 72, 75, 76, 80, 84, 85, 88, 90, 92, 95, 96]\n"
     ]
    }
   ],
   "source": [
    "l=[]\n",
    "n=100\n",
    "i=1\n",
    "#using for loop\n",
    "for i in range(n):\n",
    "    if(i<=n):\n",
    "        if(i%4==0 or i%5==0):\n",
    "            l.append(i)\n",
    "    i=i+1\n",
    "print(\"cube of numbers\",l)    \n",
    "\n",
    "\n"
   ]
  },
  {
   "cell_type": "code",
   "execution_count": 16,
   "id": "80111ab3-6527-48d6-8e15-92e522d579f5",
   "metadata": {},
   "outputs": [
    {
     "name": "stdout",
     "output_type": "stream",
     "text": [
      "I want to become a data scientist\n",
      "number of vowels 12\n"
     ]
    }
   ],
   "source": [
    "#ans-5\n",
    "s=\"I want to become a data scientist\"\n",
    "s1=s.lower()\n",
    "print(s)\n",
    "count=0\n",
    "l=['a','e','i','o','u']\n",
    "for i in s1:\n",
    "    if i in l:\n",
    "        count=count+1\n",
    "print(\"number of vowels\",count)        \n",
    "        "
   ]
  },
  {
   "cell_type": "code",
   "execution_count": null,
   "id": "333605ef-ba75-4ec5-ba29-2614b6b04f16",
   "metadata": {},
   "outputs": [],
   "source": []
  },
  {
   "cell_type": "code",
   "execution_count": null,
   "id": "c092c953-de18-4ed5-8061-a49c2ac63e67",
   "metadata": {},
   "outputs": [],
   "source": []
  }
 ],
 "metadata": {
  "kernelspec": {
   "display_name": "Python 3 (ipykernel)",
   "language": "python",
   "name": "python3"
  },
  "language_info": {
   "codemirror_mode": {
    "name": "ipython",
    "version": 3
   },
   "file_extension": ".py",
   "mimetype": "text/x-python",
   "name": "python",
   "nbconvert_exporter": "python",
   "pygments_lexer": "ipython3",
   "version": "3.10.8"
  }
 },
 "nbformat": 4,
 "nbformat_minor": 5
}

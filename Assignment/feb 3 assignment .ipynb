{
 "cells": [
  {
   "cell_type": "code",
   "execution_count": 1,
   "id": "2478a4f5-59e9-4f9a-9776-1017c9a12d41",
   "metadata": {},
   "outputs": [],
   "source": [
    "#ans=1\n",
    "#def keyeord is used to create a function in python\n",
    "\n",
    "#function to return a list of odd numbers\n",
    "\n",
    "l=[]\n",
    "l1=[]\n",
    "for i in range(1,26):\n",
    "    l.append(i)\n",
    "def odd(l1):\n",
    "    for i in l:\n",
    "        if i%2!=0:\n",
    "            l1.append(i)\n",
    "    return l1       \n",
    "    \n",
    " "
   ]
  },
  {
   "cell_type": "code",
   "execution_count": 2,
   "id": "af4b7d64-cc82-4c36-ae2e-25d9992f9469",
   "metadata": {},
   "outputs": [
    {
     "data": {
      "text/plain": [
       "[1, 3, 5, 7, 9, 11, 13, 15, 17, 19, 21, 23, 25]"
      ]
     },
     "execution_count": 2,
     "metadata": {},
     "output_type": "execute_result"
    }
   ],
   "source": [
    "odd (l1)"
   ]
  },
  {
   "cell_type": "code",
   "execution_count": 3,
   "id": "0653aa53-a888-4119-82fb-9fa59fd4dfee",
   "metadata": {},
   "outputs": [
    {
     "name": "stdout",
     "output_type": "stream",
     "text": [
      "this\n",
      "is\n",
      "my\n",
      "assignment\n"
     ]
    }
   ],
   "source": [
    " #ans-2\n",
    "    \n",
    "#* args use-\n",
    "# to pass a variable number  of argument  to a function \n",
    "# it is used to pass  a non keyword , variable length argument list\n",
    "\n",
    "#*args  alllow to take more number arguments than the number of formal arguments\n",
    "\n",
    "\n",
    "def  fun (*args):\n",
    "    for i in args:\n",
    "        print(i)\n",
    "        \n",
    "fun (\"this\", \"is\",\"my\",\"assignment\")        \n",
    "\n",
    "    "
   ]
  },
  {
   "cell_type": "code",
   "execution_count": 4,
   "id": "062e2354-b873-47ee-a9c3-7b4cad7c30af",
   "metadata": {},
   "outputs": [
    {
     "name": "stdout",
     "output_type": "stream",
     "text": [
      "{'ram': 20, 'shayam': 65, 'mohan': 85} <class 'dict'>\n"
     ]
    }
   ],
   "source": [
    "#use of **kwargs-\n",
    "#it is use to pass a keyword , variable length argument list\n",
    "\n",
    "def fun (**kwargs):\n",
    "    print(kwargs,type(kwargs))\n",
    "    \n",
    "    \n",
    "fun (ram=20,shayam=65,mohan=85)    \n",
    "    "
   ]
  },
  {
   "cell_type": "code",
   "execution_count": null,
   "id": "746c5dc6-48de-4217-9cb0-27387008d85b",
   "metadata": {},
   "outputs": [],
   "source": []
  },
  {
   "cell_type": "code",
   "execution_count": 5,
   "id": "6e48ea29-41c0-4805-9e76-60ffb5f6641b",
   "metadata": {},
   "outputs": [
    {
     "name": "stdout",
     "output_type": "stream",
     "text": [
      "2\n",
      "4\n",
      "6\n",
      "8\n",
      "10\n"
     ]
    }
   ],
   "source": [
    "#ans-3\n",
    "#iterator uses-\n",
    "\n",
    "#__iter__(): The iter() method is called for the initialization\n",
    "#of an iterator. This returns an iterator object\n",
    "\n",
    "#The iterator object is initialized using the iter() method.\n",
    "#It uses the next() method for iteration.\n",
    "\n",
    "l=[2,4,6,8,10,12,14,16,18,20]\n",
    "l1=iter(l)\n",
    "for i in range(5):\n",
    "    print(next(l1))\n"
   ]
  },
  {
   "cell_type": "code",
   "execution_count": 6,
   "id": "f78cb310-5446-43cc-a06c-3ae9e93c58d0",
   "metadata": {},
   "outputs": [],
   "source": [
    "#ans-4\n",
    "\n",
    "#Generator-Function: A generator-function is defined like\n",
    "#a normal function, but whenever it needs to generate a \n",
    "#value, it does so with the yield keyword rather than return.\n",
    "#If the body of a def contains yield, the function automatically\n",
    "#becomes a generator function. \n",
    "\n",
    "def even_num(n):\n",
    "    number=0\n",
    "    while True:\n",
    "        yield number\n",
    "        number+=2"
   ]
  },
  {
   "cell_type": "code",
   "execution_count": 7,
   "id": "c6cb6f80-b623-4eac-a3a6-77e339a243f8",
   "metadata": {},
   "outputs": [],
   "source": [
    "s=even_num(100)"
   ]
  },
  {
   "cell_type": "code",
   "execution_count": 8,
   "id": "77e17eff-0c33-4d35-b372-2beaabb7f04f",
   "metadata": {},
   "outputs": [
    {
     "name": "stdout",
     "output_type": "stream",
     "text": [
      "0\n",
      "2\n",
      "4\n",
      "6\n",
      "8\n",
      "10\n",
      "12\n",
      "14\n",
      "16\n",
      "18\n",
      "20\n",
      "22\n",
      "24\n",
      "26\n",
      "28\n",
      "30\n",
      "32\n",
      "34\n",
      "36\n",
      "38\n",
      "40\n",
      "42\n",
      "44\n",
      "46\n",
      "48\n",
      "50\n",
      "52\n",
      "54\n",
      "56\n",
      "58\n",
      "60\n",
      "62\n",
      "64\n",
      "66\n",
      "68\n",
      "70\n",
      "72\n",
      "74\n",
      "76\n",
      "78\n",
      "80\n",
      "82\n",
      "84\n",
      "86\n",
      "88\n",
      "90\n",
      "92\n",
      "94\n",
      "96\n",
      "98\n",
      "100\n",
      "102\n",
      "104\n",
      "106\n",
      "108\n",
      "110\n",
      "112\n",
      "114\n",
      "116\n",
      "118\n",
      "120\n",
      "122\n",
      "124\n",
      "126\n",
      "128\n",
      "130\n",
      "132\n",
      "134\n",
      "136\n",
      "138\n",
      "140\n",
      "142\n",
      "144\n",
      "146\n",
      "148\n",
      "150\n",
      "152\n",
      "154\n",
      "156\n",
      "158\n",
      "160\n",
      "162\n",
      "164\n",
      "166\n",
      "168\n",
      "170\n",
      "172\n",
      "174\n",
      "176\n",
      "178\n",
      "180\n",
      "182\n",
      "184\n",
      "186\n",
      "188\n",
      "190\n",
      "192\n",
      "194\n",
      "196\n",
      "198\n"
     ]
    }
   ],
   "source": [
    "for i in range(100):\n",
    "    print(next(s))"
   ]
  },
  {
   "cell_type": "code",
   "execution_count": 9,
   "id": "0a0c0d2f-3d49-4b27-9574-925dd9d554d9",
   "metadata": {},
   "outputs": [],
   "source": [
    "#ans-5\n",
    "\n",
    "def prime(num):\n",
    "    for i in range(2,num):\n",
    "        if num%i==0:\n",
    "            \n",
    "            return False\n",
    "    return True\n",
    "def primeGenerator(n):\n",
    "    num=2\n",
    "    while n:\n",
    "        if prime(num):\n",
    "            yield num\n",
    "            n-=1\n",
    "        num+=1\n",
    "    return   \n",
    "           \n",
    "        \n",
    "      "
   ]
  },
  {
   "cell_type": "code",
   "execution_count": 10,
   "id": "6d4981ab-1ae3-4a84-8ce7-a5f522a4dd32",
   "metadata": {},
   "outputs": [],
   "source": [
    "t=primeGenerator(10)"
   ]
  },
  {
   "cell_type": "code",
   "execution_count": 11,
   "id": "1dc5a537-4f8a-4eee-b220-df4ca56db05e",
   "metadata": {},
   "outputs": [
    {
     "name": "stdout",
     "output_type": "stream",
     "text": [
      "2\n",
      "3\n",
      "5\n",
      "7\n",
      "11\n",
      "13\n",
      "17\n",
      "19\n",
      "23\n",
      "29\n"
     ]
    }
   ],
   "source": [
    "for i in range(10):\n",
    "    print(next(t))\n"
   ]
  },
  {
   "cell_type": "code",
   "execution_count": null,
   "id": "4e1f0399-68a0-4aa5-8fd8-0db89cbab6ec",
   "metadata": {},
   "outputs": [],
   "source": []
  },
  {
   "cell_type": "code",
   "execution_count": 12,
   "id": "6872b6d3-b97e-48fd-8899-9e45a02d931d",
   "metadata": {},
   "outputs": [],
   "source": [
    "#ans-6\n",
    "#fibnaaci series \n",
    "\n",
    "def fib(n):\n",
    "    a,b=1,2\n",
    "    while True:\n",
    "        yield a\n",
    "        a,b=b,a+b\n",
    "        \n",
    "       \n",
    "\n"
   ]
  },
  {
   "cell_type": "code",
   "execution_count": 13,
   "id": "1001b924-da88-486c-be7d-0d690dd269b1",
   "metadata": {},
   "outputs": [],
   "source": [
    "s=fib(10)"
   ]
  },
  {
   "cell_type": "code",
   "execution_count": 14,
   "id": "6f1c6367-68e2-4ee7-9ce5-b6963c48c6dc",
   "metadata": {},
   "outputs": [
    {
     "name": "stdout",
     "output_type": "stream",
     "text": [
      "1\n",
      "2\n",
      "3\n",
      "5\n",
      "8\n",
      "13\n",
      "21\n",
      "34\n",
      "55\n",
      "89\n"
     ]
    }
   ],
   "source": [
    "for i in range(10):\n",
    "    print(next(s))"
   ]
  },
  {
   "cell_type": "code",
   "execution_count": 15,
   "id": "b926c3c5-2315-40ab-9d1d-499eeb72b3e4",
   "metadata": {},
   "outputs": [
    {
     "name": "stdout",
     "output_type": "stream",
     "text": [
      "['p', 'w', 's', 'k', 'i', 'l', 'l', 's']\n"
     ]
    }
   ],
   "source": [
    "#ans-7\n",
    "l=\"pwskills\"\n",
    "l1=[]\n",
    "for i in l:\n",
    "    l1.append(i)\n",
    "print(l1)    \n",
    "    \n",
    "\n"
   ]
  },
  {
   "cell_type": "code",
   "execution_count": null,
   "id": "401e016a-8c61-4c41-851b-a8efef218931",
   "metadata": {},
   "outputs": [],
   "source": []
  },
  {
   "cell_type": "code",
   "execution_count": 16,
   "id": "6c1750e9-4d8b-4768-b439-832f1631ae0c",
   "metadata": {},
   "outputs": [],
   "source": [
    "#ans-8\n",
    "\n",
    "def pallendrom(num):\n",
    "    \n",
    "    number = str(num)\n",
    "    \n",
    "    if  number== number[::-1]:\n",
    "        print(\"yes pallendrom\")\n",
    "    else:\n",
    "        print(\"not pallendrom\")\n"
   ]
  },
  {
   "cell_type": "code",
   "execution_count": 17,
   "id": "8a6c4073-77f9-4de9-8dbe-34b9b1584b5d",
   "metadata": {},
   "outputs": [
    {
     "name": "stdout",
     "output_type": "stream",
     "text": [
      "yes pallendrom\n"
     ]
    }
   ],
   "source": [
    "pallendrom(1234321)"
   ]
  },
  {
   "cell_type": "code",
   "execution_count": null,
   "id": "bdb689de-01e3-4f68-b0e4-3907dfdc2559",
   "metadata": {},
   "outputs": [],
   "source": []
  },
  {
   "cell_type": "code",
   "execution_count": 18,
   "id": "2f0ccc9c-cb26-4d16-b54c-faf1389f3ff9",
   "metadata": {},
   "outputs": [
    {
     "name": "stdout",
     "output_type": "stream",
     "text": [
      "1 3 5 7 9 11 13 15 17 19 21 23 25 27 29 31 33 35 37 39 41 43 45 47 49 51 53 55 57 59 61 63 65 67 69 71 73 75 77 79 81 83 85 87 89 91 93 95 97 99\n"
     ]
    }
   ],
   "source": [
    "#ans-9\n",
    "\n",
    "x =[i for i in range(1,101) if i%2!=0   ]\n",
    "print(*x)\n",
    "\n"
   ]
  },
  {
   "cell_type": "code",
   "execution_count": null,
   "id": "93d90ff5-1014-4dd0-84ba-20c3688d947b",
   "metadata": {},
   "outputs": [],
   "source": []
  }
 ],
 "metadata": {
  "kernelspec": {
   "display_name": "Python 3 (ipykernel)",
   "language": "python",
   "name": "python3"
  },
  "language_info": {
   "codemirror_mode": {
    "name": "ipython",
    "version": 3
   },
   "file_extension": ".py",
   "mimetype": "text/x-python",
   "name": "python",
   "nbconvert_exporter": "python",
   "pygments_lexer": "ipython3",
   "version": "3.10.8"
  }
 },
 "nbformat": 4,
 "nbformat_minor": 5
}

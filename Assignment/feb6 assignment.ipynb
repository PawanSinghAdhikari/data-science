{
 "cells": [
  {
   "cell_type": "code",
   "execution_count": 55,
   "id": "f587cf18-126c-48de-a473-694ce925c264",
   "metadata": {},
   "outputs": [],
   "source": [
    "#ans-1\n",
    "\n",
    "list1 = [1,2,3,4, [44,55,66, True], False, (34,56,78,89,34), {1,2,3,3,2,1}, {1:34, \"key2\": [55, 67, 78, 89], 4: (45,\n",
    "22, 61, 34)}, [56, 'data science'], 'Machine Learning']"
   ]
  },
  {
   "cell_type": "code",
   "execution_count": 66,
   "id": "dc1be517-e8f1-41d2-b876-68a6de7feafd",
   "metadata": {},
   "outputs": [],
   "source": [
    "def num_product(list1):\n",
    "    product=1\n",
    "    l=[]\n",
    "    for i in list1:\n",
    "        if type(i) == int:\n",
    "            l.append(i)\n",
    "        elif type(i) in [list, tuple, set]:\n",
    "            for ele in i:\n",
    "                if type(ele)==int:\n",
    "                    l.append(ele)\n",
    "        elif type(i)==dict:\n",
    "            for ele in i.keys():\n",
    "                if type(ele)==int:\n",
    "                    l.append(ele)\n",
    "            for ele in i.values():\n",
    "                if type(ele)==int:\n",
    "                    l.append(ele)\n",
    "                elif type(ele) in [list, tuple]:\n",
    "                    for ele1 in ele:\n",
    "                        if type(ele1)==int:\n",
    "                            l.append(ele1)\n",
    "    for i in l:\n",
    "        product *=i \n",
    "    print(\"the number product is\", product)"
   ]
  },
  {
   "cell_type": "code",
   "execution_count": 67,
   "id": "9f4d39b1-7dad-4044-a161-e2cfdece9e4a",
   "metadata": {},
   "outputs": [
    {
     "name": "stdout",
     "output_type": "stream",
     "text": [
      "the number product is 4134711838987085478833841242112000\n"
     ]
    }
   ],
   "source": [
    "num_product(list1)"
   ]
  },
  {
   "cell_type": "code",
   "execution_count": null,
   "id": "8fcbc3e8-c803-4faf-91c4-419680c8d316",
   "metadata": {},
   "outputs": [],
   "source": []
  },
  {
   "cell_type": "code",
   "execution_count": null,
   "id": "9237aa30-022b-4f47-8b4f-a8c6629822ec",
   "metadata": {},
   "outputs": [],
   "source": [
    "message = input(\"Enter a message to encrypt: \").lower()\n",
    "encrypted_message = \"\"\n",
    "\n",
    "for char in message:\n",
    "    if char.isalpha():\n",
    "        encrypted_message += chr(219 - ord(char))\n",
    "    elif char.isspace():\n",
    "        encrypted_message += \"$\"\n",
    "    else:\n",
    "        encrypted_message += char\n",
    "\n",
    "print(\"Encrypted message:\", encrypted_message)"
   ]
  },
  {
   "cell_type": "code",
   "execution_count": null,
   "id": "0cd257c7-c968-45f3-adef-b4c185a7fdfb",
   "metadata": {},
   "outputs": [],
   "source": []
  },
  {
   "cell_type": "code",
   "execution_count": null,
   "id": "85397892-7f53-45d9-8e9c-8c93a4fba7cc",
   "metadata": {},
   "outputs": [],
   "source": []
  },
  {
   "cell_type": "code",
   "execution_count": null,
   "id": "7704965e-2c33-42ac-9198-cc2c0623d6f9",
   "metadata": {},
   "outputs": [],
   "source": []
  },
  {
   "cell_type": "code",
   "execution_count": null,
   "id": "b49ebe18-ac9b-4d2e-96ef-1360b91db9c4",
   "metadata": {},
   "outputs": [],
   "source": []
  },
  {
   "cell_type": "code",
   "execution_count": null,
   "id": "625549d0-f8b1-4246-9861-7f24c6f8ec6e",
   "metadata": {},
   "outputs": [],
   "source": []
  }
 ],
 "metadata": {
  "kernelspec": {
   "display_name": "Python 3 (ipykernel)",
   "language": "python",
   "name": "python3"
  },
  "language_info": {
   "codemirror_mode": {
    "name": "ipython",
    "version": 3
   },
   "file_extension": ".py",
   "mimetype": "text/x-python",
   "name": "python",
   "nbconvert_exporter": "python",
   "pygments_lexer": "ipython3",
   "version": "3.10.8"
  }
 },
 "nbformat": 4,
 "nbformat_minor": 5
}

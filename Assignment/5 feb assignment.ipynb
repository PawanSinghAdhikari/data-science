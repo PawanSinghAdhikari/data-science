{
 "cells": [
  {
   "cell_type": "code",
   "execution_count": null,
   "id": "2954e8f5-9042-45e0-ac6c-dcccece618bc",
   "metadata": {},
   "outputs": [],
   "source": [
    "#ans-1\n",
    "#class and object-\n",
    "\n",
    "class pwskill:   #here pwskill is a class\n",
    "    def welcome_message(self):  # creating a function to generate  welcome message\n",
    "        print(\"welcome to data science class\")\n",
    "    "
   ]
  },
  {
   "cell_type": "code",
   "execution_count": null,
   "id": "d09dbd1b-09b1-4d28-8920-5050339c99a8",
   "metadata": {},
   "outputs": [],
   "source": [
    "pawan=pwskill()\n",
    "##here pawan is a object"
   ]
  },
  {
   "cell_type": "code",
   "execution_count": null,
   "id": "14218d9e-b9e0-4f4f-b857-3d3eed34317c",
   "metadata": {},
   "outputs": [],
   "source": [
    "pawan.welcome_message()"
   ]
  },
  {
   "cell_type": "code",
   "execution_count": null,
   "id": "021cdd72-91eb-4efe-8c5e-5ecafe8bfbf6",
   "metadata": {},
   "outputs": [],
   "source": []
  },
  {
   "cell_type": "code",
   "execution_count": null,
   "id": "989dcab4-3025-4036-aa57-61abda499f5c",
   "metadata": {},
   "outputs": [],
   "source": [
    "#ans-2\n",
    "\"\"\"\n",
    "The four pillars for Oops are:\n",
    "1. Abstraction\n",
    "2. Encapsulation\n",
    "3. Inheritance\n",
    "4. Polymorphism\n",
    "\n",
    "\"\"\""
   ]
  },
  {
   "cell_type": "code",
   "execution_count": null,
   "id": "1e13a3de-d456-4719-8932-04862f154d40",
   "metadata": {},
   "outputs": [],
   "source": []
  },
  {
   "cell_type": "code",
   "execution_count": null,
   "id": "aecdb291-a61d-4934-99fa-bc3916072672",
   "metadata": {},
   "outputs": [],
   "source": []
  },
  {
   "cell_type": "code",
   "execution_count": null,
   "id": "f210c865-d813-44b4-bd7f-d06bf875e61d",
   "metadata": {},
   "outputs": [],
   "source": [
    "#ans-3\n",
    "\n",
    "\"\"\"\n",
    "The __init__() method to initialize the object’s attributes.\n",
    "we use double underscores at both sides of the __init__() method.\n",
    "__init__ does not allocate space in memory. It is expected to \n",
    "initialize instance attributes\n",
    "\n",
    "\"\"\""
   ]
  },
  {
   "cell_type": "code",
   "execution_count": null,
   "id": "ebd20bd8-56fe-48c9-b6c6-b9324062e0eb",
   "metadata": {},
   "outputs": [],
   "source": [
    "#emample init  function\n",
    "\n",
    "class record:\n",
    "    def __init__(pawan,student_name, course ,age ,email_id ):\n",
    "        pawan.student_name=student_name\n",
    "        pawan.courses=course\n",
    "        pawan.age=age\n",
    "        pawan.email_id=email_id\n",
    "        \n",
    "    def return_detail(pawan):\n",
    "        return pawan.student, pawan.course,pawan.age,pawan.email_id\n",
    "        \n",
    "        \n",
    "        \n",
    "    "
   ]
  },
  {
   "cell_type": "code",
   "execution_count": null,
   "id": "a55c9599-6e20-4beb-89d1-e2c93e940c14",
   "metadata": {},
   "outputs": [],
   "source": [
    "stu1=record(\"ram\",\"data_science\",25,\"ram@gmail.com\")"
   ]
  },
  {
   "cell_type": "code",
   "execution_count": null,
   "id": "3bd11173-85cd-46b3-80d9-f7f47f2cba75",
   "metadata": {},
   "outputs": [],
   "source": [
    "stu1.age"
   ]
  },
  {
   "cell_type": "code",
   "execution_count": null,
   "id": "bc298cac-b432-4bac-98ed-b2533efe2220",
   "metadata": {},
   "outputs": [],
   "source": [
    "stu2=record(\"mohan\",\"java\",35,\"mohan@gmail.com\")"
   ]
  },
  {
   "cell_type": "code",
   "execution_count": null,
   "id": "651cdaa0-cbe3-419a-9fc7-ca815148e417",
   "metadata": {},
   "outputs": [],
   "source": [
    "stu2.courses"
   ]
  },
  {
   "cell_type": "code",
   "execution_count": null,
   "id": "0a987cbe-5128-4d19-a4a5-3f48345e22d8",
   "metadata": {},
   "outputs": [],
   "source": [
    "stu1.student_name"
   ]
  },
  {
   "cell_type": "code",
   "execution_count": null,
   "id": "c49cd026-f7ae-4ae4-8f2c-36e126081a1a",
   "metadata": {},
   "outputs": [],
   "source": [
    "stu2.email_id"
   ]
  },
  {
   "cell_type": "code",
   "execution_count": null,
   "id": "d23d25a8-9c1c-4c02-8841-290dc23fbcdc",
   "metadata": {},
   "outputs": [],
   "source": []
  },
  {
   "cell_type": "code",
   "execution_count": null,
   "id": "4fe27efc-2435-4fba-a05a-2253146bfa60",
   "metadata": {},
   "outputs": [],
   "source": [
    "#ans-4\n",
    "\"\"\"\n",
    "The self parameter is a reference to the current instance of the \n",
    "class, and is used to access variables that belongs to the class.\n",
    "It does not have to be named self , you can call it whatever you\n",
    "like, but it has to be the first parameter of any function in the\n",
    "class.\n",
    "\n",
    "\n",
    "\"\"\""
   ]
  },
  {
   "cell_type": "code",
   "execution_count": null,
   "id": "6f02f520-3700-471e-9a57-db8e0555cd31",
   "metadata": {},
   "outputs": [],
   "source": []
  },
  {
   "cell_type": "code",
   "execution_count": null,
   "id": "1a5eb61d-4eb1-49af-a04f-4d684ae19a48",
   "metadata": {},
   "outputs": [],
   "source": [
    "#ans-5\n",
    "\n",
    "#inheritence\n",
    "\"\"\"\n",
    "Inheritance allows us to define a class that inherits all the \n",
    "methods and properties from another class.Parent class is the \n",
    "class being inherited from, also called base class.Child class \n",
    "is the class that inherits from another class, also called derived class.\n",
    "\n",
    "\"\"\"\n",
    "\n",
    "\n"
   ]
  },
  {
   "cell_type": "code",
   "execution_count": null,
   "id": "728e2291-1946-4ff8-b460-33d6a78c6ab9",
   "metadata": {},
   "outputs": [],
   "source": [
    "# Base class\n",
    "class Vehicle:\n",
    "    def Vehicle_info(self):\n",
    "        print('Inside Vehicle class')\n",
    "\n",
    "# Child class\n",
    "class Car(Vehicle):\n",
    "    def car_info(self):\n",
    "        print('Inside Car class')\n",
    "\n",
    "\n",
    "\n"
   ]
  },
  {
   "cell_type": "code",
   "execution_count": null,
   "id": "6d1773fc-9b06-43ac-95a0-ce2c2e7e8510",
   "metadata": {},
   "outputs": [],
   "source": [
    "# Create object of Car\n",
    "car = Car()"
   ]
  },
  {
   "cell_type": "code",
   "execution_count": null,
   "id": "cf51c7ef-338d-4b1f-8fdb-1c3eadb6ac7e",
   "metadata": {},
   "outputs": [],
   "source": [
    "# access Vehicle's info using car object\n",
    "car.Vehicle_info()\n"
   ]
  },
  {
   "cell_type": "code",
   "execution_count": null,
   "id": "f34d02b0-86e5-47a0-be61-989ab5162dcc",
   "metadata": {},
   "outputs": [],
   "source": [
    "car.car_info()"
   ]
  },
  {
   "cell_type": "code",
   "execution_count": null,
   "id": "87f9fee1-e5a1-4264-8738-81235857933f",
   "metadata": {},
   "outputs": [],
   "source": []
  }
 ],
 "metadata": {
  "kernelspec": {
   "display_name": "Python 3 (ipykernel)",
   "language": "python",
   "name": "python3"
  },
  "language_info": {
   "codemirror_mode": {
    "name": "ipython",
    "version": 3
   },
   "file_extension": ".py",
   "mimetype": "text/x-python",
   "name": "python",
   "nbconvert_exporter": "python",
   "pygments_lexer": "ipython3",
   "version": "3.10.8"
  }
 },
 "nbformat": 4,
 "nbformat_minor": 5
}

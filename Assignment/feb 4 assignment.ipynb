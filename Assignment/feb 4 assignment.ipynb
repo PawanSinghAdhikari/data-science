{
 "cells": [
  {
   "cell_type": "code",
   "execution_count": 8,
   "id": "bd1e3143-d93b-46a4-8d88-d5324fdeb0ee",
   "metadata": {},
   "outputs": [],
   "source": [
    "#ans-1\n",
    "l=[('Sachin Tendulkar', 34357), ('Ricky Ponting', 27483), ('Jack Kallis', 25534), ('Virat Kohli', 24936)]\n"
   ]
  },
  {
   "cell_type": "code",
   "execution_count": 9,
   "id": "908d932a-a5e5-4ac4-b1a2-b79450bc1352",
   "metadata": {},
   "outputs": [
    {
     "data": {
      "text/plain": [
       "[('Virat Kohli', 24936),\n",
       " ('Jack Kallis', 25534),\n",
       " ('Ricky Ponting', 27483),\n",
       " ('Sachin Tendulkar', 34357)]"
      ]
     },
     "execution_count": 9,
     "metadata": {},
     "output_type": "execute_result"
    }
   ],
   "source": [
    "sorted(l,key= lambda x:x[1])"
   ]
  },
  {
   "cell_type": "code",
   "execution_count": null,
   "id": "12ab327f-6331-4749-b6d5-5a4379ad29d4",
   "metadata": {},
   "outputs": [],
   "source": []
  },
  {
   "cell_type": "code",
   "execution_count": 15,
   "id": "27b38ab7-523e-4bdb-a7e4-61f6b07fd559",
   "metadata": {},
   "outputs": [
    {
     "data": {
      "text/plain": [
       "[1, 4, 9, 16, 25, 36, 49, 64, 81, 100]"
      ]
     },
     "execution_count": 15,
     "metadata": {},
     "output_type": "execute_result"
    }
   ],
   "source": [
    "#ans-2\n",
    "l=[1,2,3,4,5,6,7,8,9,10]\n",
    "\n",
    "list(map(lambda l:l**2,l)) "
   ]
  },
  {
   "cell_type": "code",
   "execution_count": 16,
   "id": "f655a8b1-3787-475c-9e8c-2874df453515",
   "metadata": {},
   "outputs": [
    {
     "data": {
      "text/plain": [
       "('1', '2', '3', '4', '5', '6', '7', '8', '9', '10')"
      ]
     },
     "execution_count": 16,
     "metadata": {},
     "output_type": "execute_result"
    }
   ],
   "source": [
    "#ans-3\n",
    "\n",
    "l=[1,2,3,4,5,6,7,8,9,10]\n",
    "tuple (map(lambda l:str(l),l))"
   ]
  },
  {
   "cell_type": "code",
   "execution_count": null,
   "id": "fd0a7bc2-1b93-4983-bf42-ac0155ebb6a2",
   "metadata": {},
   "outputs": [],
   "source": []
  },
  {
   "cell_type": "code",
   "execution_count": 35,
   "id": "a82c9f44-0624-4f18-9370-4e599392ba4d",
   "metadata": {},
   "outputs": [],
   "source": [
    "from functools import reduce"
   ]
  },
  {
   "cell_type": "code",
   "execution_count": 39,
   "id": "cbda6063-a75b-4c95-928b-4942a31ef682",
   "metadata": {},
   "outputs": [],
   "source": [
    "#ans-4\n",
    "l=[]\n",
    "for i in range(1,26):\n",
    "    l.append(i)\n",
    "\n"
   ]
  },
  {
   "cell_type": "code",
   "execution_count": 40,
   "id": "d6da0aff-288a-4dc1-8565-c24cce91b455",
   "metadata": {},
   "outputs": [
    {
     "data": {
      "text/plain": [
       "15511210043330985984000000"
      ]
     },
     "execution_count": 40,
     "metadata": {},
     "output_type": "execute_result"
    }
   ],
   "source": [
    "reduce(lambda x,y: x*y,l)"
   ]
  },
  {
   "cell_type": "code",
   "execution_count": null,
   "id": "78d6044f-ea4a-4038-a8c0-09469113dce6",
   "metadata": {},
   "outputs": [],
   "source": []
  },
  {
   "cell_type": "code",
   "execution_count": 41,
   "id": "8fa641a5-a975-459c-910a-c9160e6a6447",
   "metadata": {},
   "outputs": [
    {
     "data": {
      "text/plain": [
       "[6, 60, 90, 120]"
      ]
     },
     "execution_count": 41,
     "metadata": {},
     "output_type": "execute_result"
    }
   ],
   "source": [
    "#ans-5\n",
    "\n",
    "x=[2, 3, 6, 9, 27, 60, 90, 120, 55, 46]\n",
    "\n",
    "list(filter(lambda x: x%2==0 and x%3==0,x))"
   ]
  },
  {
   "cell_type": "code",
   "execution_count": 43,
   "id": "d5b455fc-e0a1-4363-be9f-a398ca7526cf",
   "metadata": {},
   "outputs": [
    {
     "data": {
      "text/plain": [
       "['php', 'aba', 'radar', 'level']"
      ]
     },
     "execution_count": 43,
     "metadata": {},
     "output_type": "execute_result"
    }
   ],
   "source": [
    "#ans-6\n",
    "\n",
    "y=['python', 'php', 'aba', 'radar', 'level']\n",
    "\n",
    "list(filter(lambda y: y==y[::-1],y))"
   ]
  },
  {
   "cell_type": "code",
   "execution_count": null,
   "id": "a474dbca-e5f9-48c7-b9c8-de9a111f4202",
   "metadata": {},
   "outputs": [],
   "source": []
  }
 ],
 "metadata": {
  "kernelspec": {
   "display_name": "Python 3 (ipykernel)",
   "language": "python",
   "name": "python3"
  },
  "language_info": {
   "codemirror_mode": {
    "name": "ipython",
    "version": 3
   },
   "file_extension": ".py",
   "mimetype": "text/x-python",
   "name": "python",
   "nbconvert_exporter": "python",
   "pygments_lexer": "ipython3",
   "version": "3.10.8"
  }
 },
 "nbformat": 4,
 "nbformat_minor": 5
}

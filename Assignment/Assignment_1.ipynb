{
 "cells": [
  {
   "cell_type": "markdown",
   "id": "ae55bc8f-0f80-4ed5-878c-1ad68db62b99",
   "metadata": {},
   "source": [
    "\n",
    "                Assignment-1\n",
    "                \n",
    "1- Python programming language is developed by Guido van Rossum.\n",
    "\n",
    "2-Python supports object oriented and structured programming.\n",
    "\n",
    "3- Yes Python is case sensitive when dealing with identifiers.\n",
    "\n",
    "4- correct extension of python file is .py, .pyi, .pyc, .pyd, .pyo, .pyw, and .pyz.\n",
    "\n",
    "5-Yes, python code compiled or interpreted.\n",
    "\n",
    "6- Few blocks of code used in python is a module, a function body, and a class definition.\n",
    "\n",
    "7- For single line comment in python we use # .\n",
    "\n",
    "8- Using python_version() function.\n",
    "\n",
    "9- Python supports the creation of anonymous functions a runtime using a construct called lambda.\n",
    "\n",
    "10- pip stands for preferred installer program.\n",
    "\n",
    "11- Built in function in python is len(), type().\n",
    "\n",
    "12- Maximum possible length of an identifier in python is 79 characters.\n",
    "\n",
    "13- Benefit of using python is-\n",
    "In Data science\n",
    "In automation\n",
    "In web development\n",
    "In finance\n",
    "\n",
    "14- Memory management in Python involves a private heap containing all Python objects and data structures.\n",
    "\n",
    "15- how to install python on window and set path variable-\n",
    "A. Install python from this linkhttps://www.python.org/downloads/ install it on your PC.\n",
    "B. Look for the location where PYTHON has been installedon your PC using tge following command on your\n",
    "command prompt: cmd python.\n",
    "C. Then go to advanced system settings and add newvariable and name it as PYTHON_NAME and paste the\n",
    "copied path.Then look for the path variable, select it&#39;svalue and select edit Add a semicolon towards the end the\n",
    "value if it&#39;s not present and then type %PYTHON_HOME%.\n",
    "\n",
    "\n",
    "16 -Yes,indentation required in python.\n",
    "\n",
    "\n",
    "\n",
    "\n",
    "\n",
    "\n",
    "\n",
    "\n",
    "\n"
   ]
  }
 ],
 "metadata": {
  "kernelspec": {
   "display_name": "Python 3 (ipykernel)",
   "language": "python",
   "name": "python3"
  },
  "language_info": {
   "codemirror_mode": {
    "name": "ipython",
    "version": 3
   },
   "file_extension": ".py",
   "mimetype": "text/x-python",
   "name": "python",
   "nbconvert_exporter": "python",
   "pygments_lexer": "ipython3",
   "version": "3.10.8"
  }
 },
 "nbformat": 4,
 "nbformat_minor": 5
}

{
 "cells": [
  {
   "cell_type": "code",
   "execution_count": null,
   "id": "f384b000-250e-46ad-a8da-a4bfb20cf587",
   "metadata": {},
   "outputs": [],
   "source": [
    "#assignment of 30 january\n"
   ]
  },
  {
   "cell_type": "code",
   "execution_count": 45,
   "id": "07d639ef-90dc-41ae-83a7-e6f522326606",
   "metadata": {},
   "outputs": [
    {
     "name": "stdin",
     "output_type": "stream",
     "text": [
      "enter your marks 50\n"
     ]
    },
    {
     "name": "stdout",
     "output_type": "stream",
     "text": [
      "grade D\n"
     ]
    }
   ],
   "source": [
    "# Question 1\n",
    "marks=int(input(\"enter your marks\"))\n",
    "if marks>90:\n",
    "    print(\"grade A\")\n",
    "elif marks>80 and marks<=90 :\n",
    "    print (\"grade B\")\n",
    "elif marks >= 60 and marks<=80:\n",
    "    print(\"grade C\")\n",
    "else:\n",
    "    print(\"grade D\")"
   ]
  },
  {
   "cell_type": "code",
   "execution_count": 46,
   "id": "a7c0bc40-1887-480e-8ba9-0b610fd90af0",
   "metadata": {},
   "outputs": [
    {
     "name": "stdin",
     "output_type": "stream",
     "text": [
      "enter cost price of bike 5000\n"
     ]
    },
    {
     "name": "stdout",
     "output_type": "stream",
     "text": [
      "250.0\n"
     ]
    }
   ],
   "source": [
    "#question 2\n",
    "cost_price=int(input(\"enter cost price of bike\"))\n",
    "if cost_price > 100000:\n",
    "    tax=cost_price*15/100\n",
    "    print(tax)\n",
    "elif cost_price>50000 and cost_price<=100000:\n",
    "    tax=cost_price*10/100\n",
    "    print(tax)\n",
    "else :\n",
    "    tax=cost_price*5/100\n",
    "    print(tax)\n",
    "     "
   ]
  },
  {
   "cell_type": "code",
   "execution_count": 47,
   "id": "94aff25b-8db2-4777-8a52-9219ca78d303",
   "metadata": {},
   "outputs": [
    {
     "name": "stdin",
     "output_type": "stream",
     "text": [
      " enter any city from Delhi, Agra,Jaipur delhi\n"
     ]
    },
    {
     "name": "stdout",
     "output_type": "stream",
     "text": [
      "Red Fort\n"
     ]
    }
   ],
   "source": [
    "# question 3\n",
    "city=input(\" enter any city from Delhi, Agra,Jaipur\")\n",
    "if city.upper()==\"DELHI\":\n",
    "    print(\"Red Fort\")\n",
    "elif city.upper()==\"AGRA\":\n",
    "    print(\"Taj Mahal\")\n",
    "elif city.upper()==\"JAIPUR\":\n",
    "    print(\"Jal Mahal\")"
   ]
  },
  {
   "cell_type": "code",
   "execution_count": 48,
   "id": "859cb617-fcc1-42fe-a9ad-3b70728c6dd1",
   "metadata": {},
   "outputs": [
    {
     "name": "stdin",
     "output_type": "stream",
     "text": [
      "enter number 90\n"
     ]
    },
    {
     "data": {
      "text/plain": [
       "2"
      ]
     },
     "execution_count": 48,
     "metadata": {},
     "output_type": "execute_result"
    }
   ],
   "source": [
    "#question number 4\n",
    "\n",
    "num=int(input(\"enter number\"))\n",
    "def divisible_by_3(num):\n",
    "    count = 0\n",
    "    while num > 10:\n",
    "        num = num / 3\n",
    "        count =count+1\n",
    "    return count\n",
    "divisible_by_3(num)"
   ]
  },
  {
   "cell_type": "code",
   "execution_count": 49,
   "id": "c5ec6810-2544-4750-8d88-4cc48648a9d4",
   "metadata": {},
   "outputs": [
    {
     "name": "stdout",
     "output_type": "stream",
     "text": [
      "hello\n",
      "hello\n",
      "hello\n",
      "hello\n",
      "hello\n"
     ]
    }
   ],
   "source": [
    "#question number-5\n",
    "#In python, a while loop is used to execute a block of statements repeatedly \n",
    "#until a given condition is satisfied. And when the condition becomes false,\n",
    "#the line immediately after the loop in the program is executed.\n",
    "\n",
    "num=0\n",
    "while (num<5):\n",
    "    num=num+1\n",
    "    print(\"hello\")\n",
    "    \n",
    "#output-here we start num variable with 0 and the the condition is num is less \n",
    "#than 5 the program will execute till our condition will satisfy and num will\n",
    "#incrase by 1 . when num value  0,1,2,3,4  our condition will satify and print hello \n",
    "#when n will 5 our condition will false it will not execute.\n"
   ]
  },
  {
   "cell_type": "code",
   "execution_count": 51,
   "id": "a7cd81c4-e24f-447b-9270-3d2a47401f4f",
   "metadata": {},
   "outputs": [
    {
     "name": "stdin",
     "output_type": "stream",
     "text": [
      "enter your number 5\n"
     ]
    },
    {
     "data": {
      "text/plain": [
       "120"
      ]
     },
     "execution_count": 51,
     "metadata": {},
     "output_type": "execute_result"
    }
   ],
   "source": [
    "#question number 6-\n",
    "\n",
    "#first example-factorial\n",
    "number= int(input(\"enter your number\"))\n",
    "factorial=1\n",
    "while number > 0:\n",
    "    factorial=factorial*number\n",
    "    number=number-1\n",
    "factorial  "
   ]
  },
  {
   "cell_type": "code",
   "execution_count": 58,
   "id": "3c40a6b9-0117-4e6c-b827-47ac15751e17",
   "metadata": {},
   "outputs": [
    {
     "name": "stdin",
     "output_type": "stream",
     "text": [
      "enter a number whose table you want to know- 6\n"
     ]
    },
    {
     "name": "stdout",
     "output_type": "stream",
     "text": [
      "6 * 1 = 6\n",
      "6 * 2 = 12\n",
      "6 * 3 = 18\n",
      "6 * 4 = 24\n",
      "6 * 5 = 30\n",
      "6 * 6 = 36\n",
      "6 * 7 = 42\n",
      "6 * 8 = 48\n",
      "6 * 9 = 54\n",
      "6 * 10 = 60\n"
     ]
    }
   ],
   "source": [
    "#second example-table of 6\n",
    "\n",
    "i=int(input(\"enter a number whose table you want to know-\"))\n",
    "j=1\n",
    "while j<=10:\n",
    "    w=i*j\n",
    "    print(i,\"*\",j,\"=\",i*j)\n",
    "    j=j+1\n",
    "\n",
    "\n"
   ]
  },
  {
   "cell_type": "code",
   "execution_count": 71,
   "id": "288d01c1-453d-447c-8d4e-13897a4169db",
   "metadata": {},
   "outputs": [
    {
     "name": "stdout",
     "output_type": "stream",
     "text": [
      "1\n",
      "2\n",
      "3\n"
     ]
    }
   ],
   "source": [
    "#third example-\n",
    "##use while with else\n",
    "n=5\n",
    "i=1\n",
    "while i<n:\n",
    "    print(i)\n",
    "    if i==3 :\n",
    "        break\n",
    "    i=i+1\n",
    "else:\n",
    "    print(\"this will be executed when while will complete successfully \")"
   ]
  },
  {
   "cell_type": "code",
   "execution_count": 76,
   "id": "8a2ab563-ffa8-46e3-ad02-3e48e7a2022c",
   "metadata": {},
   "outputs": [
    {
     "name": "stdout",
     "output_type": "stream",
     "text": [
      "10\n",
      "9\n",
      "8\n",
      "7\n",
      "6\n",
      "5\n",
      "4\n",
      "3\n",
      "2\n",
      "1\n"
     ]
    }
   ],
   "source": [
    "#question 7 and 8\n",
    "i=10\n",
    "while i>0:\n",
    "    print(i)\n",
    "    i=i-1\n",
    "    \n",
    "    "
   ]
  },
  {
   "cell_type": "code",
   "execution_count": null,
   "id": "950a4c96-c949-45cd-b1e5-a45edaee2011",
   "metadata": {},
   "outputs": [],
   "source": []
  },
  {
   "cell_type": "code",
   "execution_count": null,
   "id": "33c0538f-01f6-4c48-9bbb-1b92c78b4e0f",
   "metadata": {},
   "outputs": [],
   "source": []
  }
 ],
 "metadata": {
  "kernelspec": {
   "display_name": "Python 3 (ipykernel)",
   "language": "python",
   "name": "python3"
  },
  "language_info": {
   "codemirror_mode": {
    "name": "ipython",
    "version": 3
   },
   "file_extension": ".py",
   "mimetype": "text/x-python",
   "name": "python",
   "nbconvert_exporter": "python",
   "pygments_lexer": "ipython3",
   "version": "3.10.8"
  }
 },
 "nbformat": 4,
 "nbformat_minor": 5
}
